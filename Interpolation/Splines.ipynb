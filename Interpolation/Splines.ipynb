{
 "cells": [
  {
   "cell_type": "markdown",
   "metadata": {},
   "source": [
    "# Método das Splines\n",
    "\n",
    "Sabe-se que os demais métodos de interpolação existentes, embora funcionais, sempre exigem um pouco de análise dos pontos de interesse para realizar uma interpolação mais condizente com nossas expectativas. Para evitar isso, criou-se o método das splines.\n",
    "\n",
    "Esse modelo possui algumas propriedades, sendo essas pautadas:\n",
    "\n",
    "Considere a função f(x) tabela nos pontos $x_{0} < x_{1} < ... < x_{n}$. Uma função $S_{p}(x)$ é denominada <b>spline de grau p</b> com nós nos pontos $x_{i}$, i = 1, 2, ..., n se esse satisfaz as seguintes condições:\n",
    "\n",
    "- Em cada subintervalo $[x_{i}, x_{i+1}]$, i = 0, 1, ..., (n-1), $S_{p}(x)$ é um polinômio de grau p: $S_{p}(x)$;\n",
    "- $S_{p}(x)$ é <b>contínua</b> e tem derivada contínua até ordem (p-1) em [a,b];\n",
    "- Se $S_{p}(x) = f(x_{i})$ i = 0, 1, 2, ..., n, então será denominada <b>Spline Interpolante</b>\n",
    "\n",
    "Dessa maneira, podemos separar tais splines nos seguintes perfis:\n",
    "\n",
    "<h5>Spline Linear Interpolante</h5>\n",
    "\n",
    "É tal que\n",
    "\n",
    "$s_{i} = f(x_{i-1})\\frac{x_{i} - x}{x_{i} - x_{i-1}} + f(x_{i})\\frac{x - x_{i-1}}{x_{i} - x_{i-1}}, \\forall x \\in [x_{i-1}, x_{i}]$\n",
    "\n",
    "Passando isso para python:"
   ]
  },
  {
   "cell_type": "code",
   "execution_count": 34,
   "metadata": {},
   "outputs": [
    {
     "name": "stdout",
     "output_type": "stream",
     "text": [
      "Valor em f(15.0): 362.78\n",
      "Valor em f(16.0): 393.694\n",
      "Valor em f(17.0): 424.608\n",
      "Valor em f(18.0): 455.522\n",
      "Valor em f(19.0): 486.436\n",
      "Valor em f(20.0): 517.35\n"
     ]
    }
   ],
   "source": [
    "def splineLinear(xi:float, xiant: float, fxi: float, fxiant: float, x_guess: float) -> float:\n",
    "  '''Função que realiza a Spline Linear de maneira manual e retorna o cálculo de acordo com os pontos dados'''\n",
    "  si = (fxiant*(xi-x_guess)/(xi-xiant)) + (fxi*(x_guess-xiant)/(xi-xiant))\n",
    "  return si\n",
    "\n",
    "def SLM(xi:float, xiant:float, fxi:float, fxiant: float,t: list) -> list:\n",
    "  '''Função que armazena os resultados da Spline Linear em uma lista e a retorna, isso com base na entrada\n",
    "  de uma lista de pontos f(x) de interesse'''\n",
    "  yt = []\n",
    "  for i in t:\n",
    "    yt.append(splineLinear(xi,xiant,fxi,fxiant,i))\n",
    "  return yt\n",
    "\n",
    "\n",
    "x_array = [0, 10, 15, 20, 22.5, 30] # Insira os valores de xi conhecidos aqui\n",
    "\n",
    "fx_array = [0, 227.04, 362.78, 517.35, 602.97, 901.67] # Insira os respectivos valores de f(xi) conhecidos aqui\n",
    "\n",
    "# Recebendo os pontos x de interesse do usuário\n",
    "data = list((input('Digite os valores que deseja procurar no spline do intervalo escolhido na função: ')).split(' '))\n",
    "\n",
    "# Transformando o input do usuário em uma lista de pontos flutuante por meio de list comprehesion\n",
    "data_int_list = [float(data[i]) for i in range(len(data))]\n",
    "\n",
    "# Recebendo os resultados da Spline Linear\n",
    "k = SLM(x_array[3], x_array[2], fx_array[3], fx_array[2], data_int_list)\n",
    "\n",
    "# Imprimindo na tela o resultado dos pontos de interesse\n",
    "print('Resultado da interpolação por Spline Cúbica')\n",
    "for i, value in enumerate(data_int_list):\n",
    "    print(f'Valor em f({value}): {round(k[i], 3)}')\n"
   ]
  },
  {
   "cell_type": "markdown",
   "metadata": {},
   "source": [
    "Entretanto, note que por ser linear, a derivada da função Spline geral ($S_{p}(x)$) não é contínua em toda a função. Logo, para isso, existem também:\n",
    "\n",
    "<h5> Spline Quadrática Interpolante </h5>\n",
    "Não apresentará problemas em relação a derivada à primeira, porém, apresentará em relação à segunda. Além disso, sua curvatura pode trocar nos nós. Dessa maneira, a spline mais usual será:\n",
    "\n",
    "<h5> Spline Cúbica Interpolante </h5>\n",
    "\n",
    "A função Spline cúbica interpolante de f(x), $S_{3}(x)$, nos nós $x_{0}, x_{1}, ..., x_{n}$, é escrita em cada subintervalo $[x_{k-1}, x_{k}], k = 1, 2, ..., n$ com n polinômios $s_{k}$ de grau 3.\n",
    "\n",
    "Para demonstrar tais propriedade, utilizaremos a biblioteca scipy. Note:"
   ]
  },
  {
   "cell_type": "code",
   "execution_count": 35,
   "metadata": {},
   "outputs": [
    {
     "name": "stdout",
     "output_type": "stream",
     "text": [
      "Resultado da interpolação por Spline Quadrática\n",
      "Valor em f(15.0): 362.78\n",
      "Valor em f(16.0): 392.093\n",
      "Valor em f(17.0): 422.165\n",
      "Valor em f(18.0): 453.013\n",
      "Valor em f(19.0): 484.736\n",
      "Valor em f(20.0): 517.35\n",
      "\n",
      "\n",
      "Resultado da interpolação por Spline Cúbica\n",
      "Valor em f(15.0): 362.78\n",
      "Valor em f(16.0): 392.071\n",
      "Valor em f(17.0): 422.139\n",
      "Valor em f(18.0): 453.019\n",
      "Valor em f(19.0): 484.745\n",
      "Valor em f(20.0): 517.35\n"
     ]
    }
   ],
   "source": [
    "from scipy.interpolate import interp1d\n",
    "\n",
    "# Para quadrática\n",
    "\n",
    "print('Resultado da interpolação por Spline Quadrática')\n",
    "s_quadratic = interp1d(x_array, fx_array, kind='quadratic') # Criação de uma classe de spline quadrática\n",
    "\n",
    "k = s_quadratic(data_int_list) # Aplicando a classe de spline quadrática nos pontos que queremos encontrar\n",
    "\n",
    "for i, value in enumerate(data_int_list):\n",
    "    print(f'Valor em f({value}): {round(k[i], 3)}')\n",
    "\n",
    "print('\\n')\n",
    "# Já para cúbica\n",
    "\n",
    "s_cubic = interp1d(x_array, fx_array, kind='cubic') # Criação de uma classe de spline cúbica\n",
    "\n",
    "k = s_cubic(data_int_list) # Aplicando a classe de spline cúbica nos pontos que queremos encontrar\n",
    "\n",
    "print('Resultado da interpolação por Spline Cúbica')\n",
    "for i, value in enumerate(data_int_list):\n",
    "    print(f'Valor em f({value}): {round(k[i], 3)}')"
   ]
  }
 ],
 "metadata": {
  "kernelspec": {
   "display_name": "venv",
   "language": "python",
   "name": "python3"
  },
  "language_info": {
   "codemirror_mode": {
    "name": "ipython",
    "version": 3
   },
   "file_extension": ".py",
   "mimetype": "text/x-python",
   "name": "python",
   "nbconvert_exporter": "python",
   "pygments_lexer": "ipython3",
   "version": "3.11.8"
  }
 },
 "nbformat": 4,
 "nbformat_minor": 2
}
